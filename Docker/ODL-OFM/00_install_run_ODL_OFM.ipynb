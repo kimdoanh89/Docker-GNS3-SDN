{
 "cells": [
  {
   "cell_type": "markdown",
   "metadata": {
    "collapsed": true,
    "pycharm": {
     "name": "#%% md\n"
    }
   },
   "source": [
    "### Install ODL and OFM\n",
    "- Use [this Dockerfile](/Docker/ODL-OFM/Dockerfile).\n",
    "- Run\n",
    "```bash\n",
    "docker build -t odl-ubuntu-16-04-ofm-ssh .\n",
    "```\n",
    "\n",
    "- Install grunt-cli:\n",
    "  - Use the IP of the start container, for \"server_ip\", example: `192.168.100.154`\n",
    "\n",
    "```bash\n",
    "sed -i 's/localhost/<server_ip>/g' ./OpenDaylight-Openflow-App/ofm/src/common/config/env.module.js\n",
    "npm install -g grunt-cli\n",
    "```\n",
    "\n",
    "- Go to the OpenDaylight-Openflow-App folder and run `grunt`\n",
    "```bash\n",
    "cd OpenDaylight-Openflow-App\n",
    "grunt\n",
    "```\n",
    "\n",
    "- Access ODL DLUX at `192.168.100.154:8181/index.html` with `admin/admin`\n",
    "as credentials.\n",
    "- Access OFM at `192.168.100.154:9000`\n",
    "\n"
   ]
  }
 ],
 "metadata": {
  "kernelspec": {
   "display_name": "Python 3",
   "language": "python",
   "name": "python3"
  },
  "language_info": {
   "codemirror_mode": {
    "name": "ipython",
    "version": 2
   },
   "file_extension": ".py",
   "mimetype": "text/x-python",
   "name": "python",
   "nbconvert_exporter": "python",
   "pygments_lexer": "ipython2",
   "version": "2.7.6"
  }
 },
 "nbformat": 4,
 "nbformat_minor": 0
}