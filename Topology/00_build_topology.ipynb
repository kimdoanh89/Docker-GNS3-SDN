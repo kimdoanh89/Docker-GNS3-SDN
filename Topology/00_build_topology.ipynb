{
 "cells": [
  {
   "cell_type": "markdown",
   "metadata": {
    "collapsed": true,
    "pycharm": {
     "name": "#%% md\n"
    }
   },
   "source": [
    "## 1. Building the topology\n",
    "The initial topology in GNS3 is as follows:\n",
    "\n",
    "![Alt text](images/00_initial_topology.png)\n",
    "\n",
    "### 1.1. Configure CSR1\n",
    "- The CSR1 using Cisco IOS XE version 16.7.1.\n",
    "- Base configuration:\n",
    "```bash\n",
    "conf t\n",
    "hostname A-R\n",
    "ip domain-name comet.abc\n",
    "vrf definition MGMT\n",
    "add ipv4\n",
    "end\n",
    "## set int f1 as MGMT interface\n",
    "conf t\n",
    "int g1\n",
    "vrf forwarding MGMT\n",
    "ip address 192.168.122.71 255.255.255.0\n",
    "end\n",
    "## add the default root, name-server\n",
    "conf t\n",
    "ip route vrf MGMT 0.0.0.0 0.0.0.0 192.168.122.1\n",
    "ip domain-lookup\n",
    "ip name-server vrf MGMT 192.168.122.1\n",
    "end\n",
    "```\n",
    "\n",
    "- Check the connection:\n",
    "```bash\n",
    "ping vrf MGMT 192.168.122.1\n",
    "ping vrf MGMT cisco.com\n",
    "```\n",
    "- Configure ssh:\n",
    "```bash\n",
    "conf t\n",
    "crypto key generate rsa mod 2048\n",
    "username admin privilege 15 password admin\n",
    "line vty 0 15\n",
    "transport input all\n",
    "login local\n",
    "end\n",
    "```\n",
    "\n",
    "- Enable netconf:\n",
    "```bash\n",
    "conf t\n",
    "netconf-yang\n",
    "```\n",
    "- Check the netconf process:\n",
    "```bash\n",
    "sh platform software yang-management process\n",
    "```\n",
    "- Turn of `service config`:\n",
    "```bash\n",
    "conf t\n",
    "no service config\n",
    "```\n",
    "\n",
    "### 1.2. Configure network-automation container\n",
    "\n",
    "- Check ssh connection from network-automation container:\n",
    "```bash\n",
    "ssh admin@192.168.122.71 # password: admin\n",
    "```\n",
    "\n",
    "### 1.3. Using ncclient to get the interface list\n",
    "The details of the router A_R is as follows:\n",
    "- ip address: 192.168.10.138\n",
    "- netconf port: 830 (as [ref.](https://developer.cisco.com/docs/ios-xe/#!enabling-netconf-on-ios-xe/addressing-and-ports))\n",
    "- username: admin\n",
    "- password: admin\n",
    "\n",
    "Another IOS-XE always on sandbox online:\n",
    "```python\n",
    "IOS_XE_1 = {\n",
    "    \"host\": \"ios-xe-mgmt.cisco.com\",\n",
    "    \"username\": \"developer\",\n",
    "    \"password\": \"C1sco12345\",\n",
    "    \"netconf_port\": 10000,\n",
    "    \"restconf_port\": 9443,\n",
    "    \"ssh_port\": 8181\n",
    "    }\n",
    "```\n",
    "\n",
    "USING SSH with the command:\n",
    "\n",
    "`ssh -s admin@192.168.100.146 -p 830 netconf`"
   ]
  },
  {
   "cell_type": "code",
   "execution_count": 2,
   "outputs": [
    {
     "name": "stdout",
     "output_type": "stream",
     "text": [
      "Opening NETCONF Connection to host: ATN-IPS-R-192.168.100.144\n",
      "Sending a <get-config> operation to the device.\n",
      "\n"
     ]
    },
    {
     "ename": "RPCError",
     "evalue": "Unsupported capability :startup",
     "output_type": "error",
     "traceback": [
      "\u001B[1;31m---------------------------------------------------------------------------\u001B[0m",
      "\u001B[1;31mRPCError\u001B[0m                                  Traceback (most recent call last)",
      "\u001B[1;32m<ipython-input-2-97fc74bafb3a>\u001B[0m in \u001B[0;36m<module>\u001B[1;34m\u001B[0m\n\u001B[0;32m     26\u001B[0m     \u001B[0mprint\u001B[0m\u001B[1;33m(\u001B[0m\u001B[1;34m\"Sending a <get-config> operation to the device.\\n\"\u001B[0m\u001B[1;33m)\u001B[0m\u001B[1;33m\u001B[0m\u001B[1;33m\u001B[0m\u001B[0m\n\u001B[0;32m     27\u001B[0m     \u001B[1;31m# Make a NETCONF <get-config> query using the filter\u001B[0m\u001B[1;33m\u001B[0m\u001B[1;33m\u001B[0m\u001B[1;33m\u001B[0m\u001B[0m\n\u001B[1;32m---> 28\u001B[1;33m     \u001B[0mnetconf_reply\u001B[0m \u001B[1;33m=\u001B[0m \u001B[0mm\u001B[0m\u001B[1;33m.\u001B[0m\u001B[0mget_config\u001B[0m\u001B[1;33m(\u001B[0m\u001B[0msource\u001B[0m \u001B[1;33m=\u001B[0m \u001B[1;34m'startup'\u001B[0m\u001B[1;33m,\u001B[0m \u001B[0mfilter\u001B[0m \u001B[1;33m=\u001B[0m \u001B[0mnetconf_filter\u001B[0m\u001B[1;33m)\u001B[0m\u001B[1;33m\u001B[0m\u001B[1;33m\u001B[0m\u001B[0m\n\u001B[0m\u001B[0;32m     29\u001B[0m \u001B[1;33m\u001B[0m\u001B[0m\n\u001B[0;32m     30\u001B[0m \u001B[0mprint\u001B[0m\u001B[1;33m(\u001B[0m\u001B[1;34m\"Here is the raw XML data returned from the device.\\n\"\u001B[0m\u001B[1;33m)\u001B[0m\u001B[1;33m\u001B[0m\u001B[1;33m\u001B[0m\u001B[0m\n",
      "\u001B[1;32mC:\\ProgramData\\Anaconda3\\envs\\tfenv\\lib\\site-packages\\ncclient\\manager.py\u001B[0m in \u001B[0;36mexecute\u001B[1;34m(self, cls, *args, **kwds)\u001B[0m\n\u001B[0;32m    214\u001B[0m                    \u001B[0masync_mode\u001B[0m\u001B[1;33m=\u001B[0m\u001B[0mself\u001B[0m\u001B[1;33m.\u001B[0m\u001B[0m_async_mode\u001B[0m\u001B[1;33m,\u001B[0m\u001B[1;33m\u001B[0m\u001B[1;33m\u001B[0m\u001B[0m\n\u001B[0;32m    215\u001B[0m                    \u001B[0mtimeout\u001B[0m\u001B[1;33m=\u001B[0m\u001B[0mself\u001B[0m\u001B[1;33m.\u001B[0m\u001B[0m_timeout\u001B[0m\u001B[1;33m,\u001B[0m\u001B[1;33m\u001B[0m\u001B[1;33m\u001B[0m\u001B[0m\n\u001B[1;32m--> 216\u001B[1;33m                    raise_mode=self._raise_mode).request(*args, **kwds)\n\u001B[0m\u001B[0;32m    217\u001B[0m \u001B[1;33m\u001B[0m\u001B[0m\n\u001B[0;32m    218\u001B[0m     \u001B[1;32mdef\u001B[0m \u001B[0mlocked\u001B[0m\u001B[1;33m(\u001B[0m\u001B[0mself\u001B[0m\u001B[1;33m,\u001B[0m \u001B[0mtarget\u001B[0m\u001B[1;33m)\u001B[0m\u001B[1;33m:\u001B[0m\u001B[1;33m\u001B[0m\u001B[1;33m\u001B[0m\u001B[0m\n",
      "\u001B[1;32mC:\\ProgramData\\Anaconda3\\envs\\tfenv\\lib\\site-packages\\ncclient\\operations\\retrieve.py\u001B[0m in \u001B[0;36mrequest\u001B[1;34m(self, source, filter, with_defaults)\u001B[0m\n\u001B[0;32m    164\u001B[0m                 \u001B[0mself\u001B[0m\u001B[1;33m.\u001B[0m\u001B[0m_session\u001B[0m\u001B[1;33m.\u001B[0m\u001B[0mserver_capabilities\u001B[0m\u001B[1;33m,\u001B[0m\u001B[1;33m\u001B[0m\u001B[1;33m\u001B[0m\u001B[0m\n\u001B[0;32m    165\u001B[0m             )\n\u001B[1;32m--> 166\u001B[1;33m         \u001B[1;32mreturn\u001B[0m \u001B[0mself\u001B[0m\u001B[1;33m.\u001B[0m\u001B[0m_request\u001B[0m\u001B[1;33m(\u001B[0m\u001B[0mnode\u001B[0m\u001B[1;33m)\u001B[0m\u001B[1;33m\u001B[0m\u001B[1;33m\u001B[0m\u001B[0m\n\u001B[0m\u001B[0;32m    167\u001B[0m \u001B[1;33m\u001B[0m\u001B[0m\n\u001B[0;32m    168\u001B[0m \u001B[1;32mclass\u001B[0m \u001B[0mGetSchema\u001B[0m\u001B[1;33m(\u001B[0m\u001B[0mRPC\u001B[0m\u001B[1;33m)\u001B[0m\u001B[1;33m:\u001B[0m\u001B[1;33m\u001B[0m\u001B[1;33m\u001B[0m\u001B[0m\n",
      "\u001B[1;32mC:\\ProgramData\\Anaconda3\\envs\\tfenv\\lib\\site-packages\\ncclient\\operations\\rpc.py\u001B[0m in \u001B[0;36m_request\u001B[1;34m(self, op)\u001B[0m\n\u001B[0;32m    339\u001B[0m                             \u001B[1;32mraise\u001B[0m \u001B[0mRPCError\u001B[0m\u001B[1;33m(\u001B[0m\u001B[0mto_ele\u001B[0m\u001B[1;33m(\u001B[0m\u001B[0mself\u001B[0m\u001B[1;33m.\u001B[0m\u001B[0m_reply\u001B[0m\u001B[1;33m.\u001B[0m\u001B[0m_raw\u001B[0m\u001B[1;33m)\u001B[0m\u001B[1;33m,\u001B[0m \u001B[0merrs\u001B[0m\u001B[1;33m=\u001B[0m\u001B[0merrors\u001B[0m\u001B[1;33m)\u001B[0m\u001B[1;33m\u001B[0m\u001B[1;33m\u001B[0m\u001B[0m\n\u001B[0;32m    340\u001B[0m                         \u001B[1;32melse\u001B[0m\u001B[1;33m:\u001B[0m\u001B[1;33m\u001B[0m\u001B[1;33m\u001B[0m\u001B[0m\n\u001B[1;32m--> 341\u001B[1;33m                             \u001B[1;32mraise\u001B[0m \u001B[0mself\u001B[0m\u001B[1;33m.\u001B[0m\u001B[0m_reply\u001B[0m\u001B[1;33m.\u001B[0m\u001B[0merror\u001B[0m\u001B[1;33m\u001B[0m\u001B[1;33m\u001B[0m\u001B[0m\n\u001B[0m\u001B[0;32m    342\u001B[0m                 \u001B[1;32mif\u001B[0m \u001B[0mself\u001B[0m\u001B[1;33m.\u001B[0m\u001B[0m_device_handler\u001B[0m\u001B[1;33m.\u001B[0m\u001B[0mtransform_reply\u001B[0m\u001B[1;33m(\u001B[0m\u001B[1;33m)\u001B[0m\u001B[1;33m:\u001B[0m\u001B[1;33m\u001B[0m\u001B[1;33m\u001B[0m\u001B[0m\n\u001B[0;32m    343\u001B[0m                     \u001B[1;32mreturn\u001B[0m \u001B[0mNCElement\u001B[0m\u001B[1;33m(\u001B[0m\u001B[0mself\u001B[0m\u001B[1;33m.\u001B[0m\u001B[0m_reply\u001B[0m\u001B[1;33m,\u001B[0m \u001B[0mself\u001B[0m\u001B[1;33m.\u001B[0m\u001B[0m_device_handler\u001B[0m\u001B[1;33m.\u001B[0m\u001B[0mtransform_reply\u001B[0m\u001B[1;33m(\u001B[0m\u001B[1;33m)\u001B[0m\u001B[1;33m)\u001B[0m\u001B[1;33m\u001B[0m\u001B[1;33m\u001B[0m\u001B[0m\n",
      "\u001B[1;31mRPCError\u001B[0m: Unsupported capability :startup"
     ]
    }
   ],
   "source": [
    "from ncclient import manager\n",
    "import xmltodict\n",
    "import xml.dom.minidom\n",
    "\n",
    "\n",
    "# Create an XML filter for targeted NETCONF queries\n",
    "netconf_filter = \"\"\"\n",
    "<filter>\n",
    "  <interfaces xmlns=\"urn:ietf:params:xml:ns:yang:ietf-interfaces\">\n",
    "    <interface></interface>\n",
    "  </interfaces>\n",
    "</filter>\"\"\"\n",
    "\n",
    "print(\"Opening NETCONF Connection to {}\"\n",
    "      .format(\"host: ATN-IPS-R-192.168.100.144\"))\n",
    "\n",
    "# Open a connection to the network device using ncclient\n",
    "with manager.connect(\n",
    "        host=\"192.168.100.146\",\n",
    "        port=830,\n",
    "        username=\"admin\",\n",
    "        password=\"admin\",\n",
    "        hostkey_verify=False\n",
    "        ) as m:\n",
    "\n",
    "    print(\"Sending a <get-config> operation to the device.\\n\")\n",
    "    # Make a NETCONF <get-config> query using the filter\n",
    "    netconf_reply = m.get_config(source = 'startup', filter = netconf_filter)\n",
    "\n",
    "print(\"Here is the raw XML data returned from the device.\\n\")\n",
    "# Print out the raw XML that returned\n",
    "print(xml.dom.minidom.parseString(netconf_reply.xml).toprettyxml())\n",
    "print(\"\")\n",
    "\n",
    "# Parse the returned XML to an Ordered Dictionary\n",
    "netconf_data = xmltodict.parse(netconf_reply.xml)[\"rpc-reply\"][\"data\"]\n",
    "\n",
    "# Create a list of interfaces\n",
    "interfaces = netconf_data[\"interfaces\"][\"interface\"]\n",
    "\n",
    "print(\"The interface status of the device is: \")\n",
    "# Loop over interfaces and report status\n",
    "for interface in interfaces:\n",
    "    print(\"Interface {} enabled status is {}\".format(\n",
    "            interface[\"name\"],\n",
    "            interface[\"enabled\"]\n",
    "            )\n",
    "        )\n",
    "print(\"\\n\")"
   ],
   "metadata": {
    "collapsed": false,
    "pycharm": {
     "name": "#%%\n"
    }
   }
  },
  {
   "cell_type": "markdown",
   "source": [
    "### 1.4. Using Advance Netconf Explorer\n",
    "- The software is available in the following [link](https://github.com/cisco-ie/anx).\n",
    "- To install the software:\n",
    "```bash\n",
    "git clone https://github.com/cisco-ie/anx\n",
    "cd anx/\n",
    "docker build -t netconf-explorer .\n",
    "docker run --name netconf-exlorer -d -p 9269:8080 netconf-explorer\n",
    "```\n",
    "- To run on web browser: http://localhost:9269/\n",
    "\n"
   ],
   "metadata": {
    "collapsed": false,
    "pycharm": {
     "name": "#%% md\n"
    }
   }
  }
 ],
 "metadata": {
  "kernelspec": {
   "name": "pycharm-3062606e",
   "language": "python",
   "display_name": "PyCharm (Multiple-antenna-communications)"
  },
  "language_info": {
   "codemirror_mode": {
    "name": "ipython",
    "version": 2
   },
   "file_extension": ".py",
   "mimetype": "text/x-python",
   "name": "python",
   "nbconvert_exporter": "python",
   "pygments_lexer": "ipython2",
   "version": "2.7.6"
  }
 },
 "nbformat": 4,
 "nbformat_minor": 0
}