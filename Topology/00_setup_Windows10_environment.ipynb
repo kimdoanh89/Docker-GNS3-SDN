{
 "cells": [
  {
   "cell_type": "markdown",
   "metadata": {
    "collapsed": true,
    "pycharm": {
     "name": "#%% md\n"
    }
   },
   "source": [
    "## Set up Windows 10 workstation environment\n",
    "\n",
    "### 1.1. Install Anaconda for Python virtual environment management\n",
    "\n",
    "### 1.2. Set up Windows Terminal with Git Bash, Zsh, and Oh My Zsh\n",
    "\n",
    "### 1.3. Ubuntu Desktop Virtual Machine installation with Docker\n",
    "Motivations:\n",
    "- GNS3 needs VMWare\n",
    "- Docker in Windows 10 needs Hyper-V\n",
    "- With Windows 10 version 2004 update and VmWare 15.5.6,\n",
    "Hyper V and VmWare still can not coexist."
   ]
  }
 ],
 "metadata": {
  "kernelspec": {
   "display_name": "Python 3",
   "language": "python",
   "name": "python3"
  },
  "language_info": {
   "codemirror_mode": {
    "name": "ipython",
    "version": 2
   },
   "file_extension": ".py",
   "mimetype": "text/x-python",
   "name": "python",
   "nbconvert_exporter": "python",
   "pygments_lexer": "ipython2",
   "version": "2.7.6"
  }
 },
 "nbformat": 4,
 "nbformat_minor": 0
}